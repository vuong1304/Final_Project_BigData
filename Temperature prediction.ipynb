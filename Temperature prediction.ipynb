{
  "nbformat": 4,
  "nbformat_minor": 0,
  "metadata": {
    "colab": {
      "provenance": [],
      "gpuType": "T4"
    },
    "kernelspec": {
      "name": "python3",
      "display_name": "Python 3"
    },
    "language_info": {
      "name": "python"
    },
    "accelerator": "GPU"
  },
  "cells": [
    {
      "cell_type": "code",
      "source": [
        "from pyspark.sql import SparkSession\n",
        "from pyspark.sql.functions import col, year, mean\n",
        "from pyspark.ml.feature import VectorAssembler\n",
        "from pyspark.ml.regression import RandomForestRegressor\n",
        "from pyspark.ml.evaluation import RegressionEvaluator"
      ],
      "metadata": {
        "id": "Sc26W63RpsqP"
      },
      "execution_count": null,
      "outputs": []
    },
    {
      "cell_type": "code",
      "source": [
        "# 1. Khởi tạo SparkSession\n",
        "spark = SparkSession.builder.appName(\"ProvinceNextYearTempPrediction\").getOrCreate()\n"
      ],
      "metadata": {
        "id": "IZJMxrrWpxMX"
      },
      "execution_count": null,
      "outputs": []
    },
    {
      "cell_type": "code",
      "source": [
        "# 2. Đọc dữ liệu\n",
        "file_path = \"/content/sorted_weather.csv\"\n",
        "data = spark.read.csv(file_path, header=True, inferSchema=True)\n"
      ],
      "metadata": {
        "id": "8Qi6vqMxpyEd"
      },
      "execution_count": null,
      "outputs": []
    },
    {
      "cell_type": "code",
      "source": [
        "# 3. Chuẩn bị dữ liệu\n",
        "# Thêm cột \"year\"\n",
        "data = data.withColumn(\"year\", year(col(\"date\")))"
      ],
      "metadata": {
        "id": "PgQUOcwTp2CF"
      },
      "execution_count": null,
      "outputs": []
    },
    {
      "cell_type": "code",
      "source": [
        "# Tính nhiệt độ trung bình\n",
        "data = data.withColumn(\"avg_temp\", (col(\"max\") + col(\"min\")) / 2)"
      ],
      "metadata": {
        "id": "LaJ3AZjqp5qG"
      },
      "execution_count": null,
      "outputs": []
    },
    {
      "cell_type": "code",
      "source": [
        "# Chọn các cột đặc trưng\n",
        "feature_columns = ['max', 'min', 'wind', 'rain', 'humidi', 'cloud', 'pressure']\n",
        "assembler = VectorAssembler(inputCols=feature_columns, outputCol=\"features\")\n",
        "data = assembler.transform(data)\n",
        "\n",
        "# Chọn các cột cần thiết\n",
        "data = data.select(\"province\", \"year\", \"features\", \"avg_temp\")\n",
        "\n",
        "# Lấy danh sách các tỉnh\n",
        "provinces = data.select(\"province\").distinct().rdd.flatMap(lambda x: x).collect()\n",
        "\n",
        "# Lưu kết quả dự đoán\n",
        "predictions_by_province = []"
      ],
      "metadata": {
        "id": "5CHbc73yp6_9"
      },
      "execution_count": null,
      "outputs": []
    },
    {
      "cell_type": "code",
      "execution_count": null,
      "metadata": {
        "colab": {
          "base_uri": "https://localhost:8080/"
        },
        "id": "Q0ePbVvhW3tp",
        "outputId": "38ae32fe-a52e-479d-f935-905ae322f3f6"
      },
      "outputs": [
        {
          "output_type": "stream",
          "name": "stdout",
          "text": [
            "Processing province: Long Xuyen\n",
            "RMSE for province Long Xuyen: 0.22\n",
            "Processing province: My Tho\n",
            "RMSE for province My Tho: 0.21\n",
            "Processing province: Ho Chi Minh City\n",
            "RMSE for province Ho Chi Minh City: 0.19\n",
            "Processing province: Ben Tre\n",
            "RMSE for province Ben Tre: 0.21\n",
            "Processing province: Nha Trang\n",
            "RMSE for province Nha Trang: 0.21\n",
            "Processing province: Hong Gai\n",
            "RMSE for province Hong Gai: 0.37\n",
            "Processing province: Hai Phong\n",
            "RMSE for province Hai Phong: 0.41\n",
            "Processing province: Cam Pha\n",
            "RMSE for province Cam Pha: 0.32\n",
            "Processing province: Hai Duong\n",
            "RMSE for province Hai Duong: 0.40\n",
            "Processing province: Ca Mau\n",
            "RMSE for province Ca Mau: 0.18\n",
            "Processing province: Cam Ranh\n",
            "RMSE for province Cam Ranh: 0.20\n",
            "Processing province: Play Cu\n",
            "RMSE for province Play Cu: 0.49\n",
            "Processing province: Nam Dinh\n",
            "RMSE for province Nam Dinh: 0.42\n",
            "Processing province: Chau Doc\n",
            "RMSE for province Chau Doc: 0.23\n",
            "Processing province: Can Tho\n",
            "RMSE for province Can Tho: 0.18\n",
            "Processing province: Da Lat\n",
            "RMSE for province Da Lat: 0.34\n",
            "Processing province: Qui Nhon\n",
            "RMSE for province Qui Nhon: 0.20\n",
            "Processing province: Phan Thiet\n",
            "RMSE for province Phan Thiet: 0.19\n",
            "Processing province: Tan An\n",
            "RMSE for province Tan An: 0.23\n",
            "Processing province: Hue\n",
            "RMSE for province Hue: 0.29\n",
            "Processing province: Hanoi\n",
            "RMSE for province Hanoi: 0.49\n",
            "Processing province: Ha Noi\n",
            "RMSE for province Ha Noi: 0.49\n",
            "Processing province: Hoa Binh\n",
            "RMSE for province Hoa Binh: 0.55\n",
            "Processing province: Tam Ky\n",
            "RMSE for province Tam Ky: 0.27\n",
            "Processing province: Bien Hoa\n",
            "RMSE for province Bien Hoa: 0.19\n",
            "Processing province: Bac Lieu\n",
            "RMSE for province Bac Lieu: 0.14\n",
            "Processing province: Soc Trang\n",
            "RMSE for province Soc Trang: 0.14\n",
            "Processing province: Buon Me Thuot\n",
            "RMSE for province Buon Me Thuot: 0.37\n",
            "Processing province: Rach Gia\n",
            "RMSE for province Rach Gia: 0.19\n",
            "Processing province: Phan Rang\n",
            "RMSE for province Phan Rang: 0.20\n",
            "Processing province: Thai Nguyen\n",
            "RMSE for province Thai Nguyen: 0.48\n",
            "Processing province: Uong Bi\n",
            "RMSE for province Uong Bi: 0.51\n",
            "Processing province: Yen Bai\n",
            "RMSE for province Yen Bai: 0.51\n",
            "Processing province: Vung Tau\n",
            "RMSE for province Vung Tau: 0.12\n",
            "Processing province: Vinh Long\n",
            "RMSE for province Vinh Long: 0.21\n",
            "Processing province: Tra Vinh\n",
            "RMSE for province Tra Vinh: 0.18\n",
            "Processing province: Tuy Hoa\n",
            "RMSE for province Tuy Hoa: 0.20\n",
            "Processing province: Vinh\n",
            "RMSE for province Vinh: 0.38\n",
            "Processing province: Viet Tri\n",
            "RMSE for province Viet Tri: 0.51\n",
            "Processing province: Thanh Hoa\n",
            "RMSE for province Thanh Hoa: 0.44\n",
            "+----------------+------------------+\n",
            "|        province|     avg_temp_2019|\n",
            "+----------------+------------------+\n",
            "|      Long Xuyen|29.082853670498686|\n",
            "|          My Tho|29.193896099913072|\n",
            "|Ho Chi Minh City|29.385411228000745|\n",
            "|         Ben Tre|29.193896099913072|\n",
            "|       Nha Trang| 26.99939995065985|\n",
            "|        Hong Gai|24.400853272606494|\n",
            "|       Hai Phong|25.146596289364183|\n",
            "|         Cam Pha|23.929775082735606|\n",
            "|       Hai Duong| 25.34524574787505|\n",
            "|      Long Xuyen|29.082853670498686|\n",
            "|          My Tho|29.193896099913072|\n",
            "|Ho Chi Minh City|29.385411228000745|\n",
            "|         Ben Tre|29.193896099913072|\n",
            "|       Nha Trang| 26.99939995065985|\n",
            "|        Hong Gai|24.400853272606494|\n",
            "|       Hai Phong|25.146596289364183|\n",
            "|         Cam Pha|23.929775082735606|\n",
            "|       Hai Duong| 25.34524574787505|\n",
            "|          Ca Mau|28.793159513430997|\n",
            "|        Cam Ranh| 26.98332306667808|\n",
            "+----------------+------------------+\n",
            "only showing top 20 rows\n",
            "\n"
          ]
        }
      ],
      "source": [
        "# 4. Dự đoán cho từng tỉnh\n",
        "for province in provinces:\n",
        "    print(f\"Processing province: {province}\")\n",
        "\n",
        "    # Lọc dữ liệu cho từng tỉnh\n",
        "    province_data = data.filter(data[\"province\"] == province)\n",
        "\n",
        "    # Chia dữ liệu thành tập huấn luyện và kiểm tra\n",
        "    train_data = province_data.filter(col(\"year\") < 2018)\n",
        "    test_data = province_data.filter(col(\"year\") == 2018)\n",
        "\n",
        "    # Kiểm tra đủ dữ liệu để huấn luyện\n",
        "    if train_data.count() > 0 and test_data.count() > 0:\n",
        "        # Huấn luyện mô hình\n",
        "        rf = RandomForestRegressor(featuresCol=\"features\", labelCol=\"avg_temp\", numTrees=100, seed=42)\n",
        "        rf_model = rf.fit(train_data)\n",
        "\n",
        "        # Dự đoán trên tập kiểm tra\n",
        "        predictions = rf_model.transform(test_data)\n",
        "        evaluator = RegressionEvaluator(labelCol=\"avg_temp\", predictionCol=\"prediction\", metricName=\"rmse\")\n",
        "        rmse = evaluator.evaluate(predictions)\n",
        "        print(f\"RMSE for province {province}: {rmse:.2f}\")\n",
        "\n",
        "        # Dự đoán nhiệt độ trung bình năm sau\n",
        "        next_year_data = test_data.withColumn(\"year\", col(\"year\") + 1)  # Giả định dữ liệu của năm tiếp theo\n",
        "        next_year_predictions = rf_model.transform(next_year_data)\n",
        "\n",
        "        # Tính nhiệt độ trung bình năm sau\n",
        "        avg_temp_2019 = next_year_predictions.select(mean(\"prediction\").alias(\"avg_temp_2019\")).collect()[0][\"avg_temp_2019\"]\n",
        "        predictions_by_province.append((province, avg_temp_2019))\n",
        "    else:\n",
        "        print(f\"Not enough data for province {province}. Skipping.\")\n",
        "\n",
        "# 5. Tạo DataFrame kết quả\n",
        "result_df = spark.createDataFrame(predictions_by_province, [\"province\", \"avg_temp_2019\"])\n",
        "\n",
        "# Hiển thị kết quả\n",
        "result_df.show()\n",
        "\n"
      ]
    },
    {
      "cell_type": "code",
      "source": [
        "# Lấy 5 tỉnh có nhiệt độ trung bình cao nhất\n",
        "top_5_hottest = result_df.orderBy(col(\"avg_temp_2019\").desc()).limit(5)\n",
        "print(\"5 tỉnh có nhiệt độ trung bình cao nhất:\")\n",
        "top_5_hottest.show()\n",
        "\n",
        "# Lấy 5 tỉnh có nhiệt độ trung bình thấp nhất\n",
        "top_5_coldest = result_df.orderBy(col(\"avg_temp_2019\").asc()).limit(5)\n",
        "print(\"5 tỉnh có nhiệt độ trung bình thấp nhất:\")\n",
        "top_5_coldest.show()"
      ],
      "metadata": {
        "colab": {
          "base_uri": "https://localhost:8080/"
        },
        "id": "WunG26UJZErr",
        "outputId": "d9ce1fd9-3a8a-48ef-abd9-38e9b95f8246"
      },
      "execution_count": null,
      "outputs": [
        {
          "output_type": "stream",
          "name": "stdout",
          "text": [
            "5 tỉnh có nhiệt độ trung bình cao nhất:\n",
            "+----------------+------------------+\n",
            "|        province|     avg_temp_2019|\n",
            "+----------------+------------------+\n",
            "|          Tan An| 29.38790324253332|\n",
            "|        Bien Hoa|29.385421403556926|\n",
            "|Ho Chi Minh City|29.385411228000745|\n",
            "|Ho Chi Minh City|29.385411228000745|\n",
            "|        Chau Doc|29.212288550315748|\n",
            "+----------------+------------------+\n",
            "\n",
            "5 tỉnh có nhiệt độ trung bình thấp nhất:\n",
            "+--------+------------------+\n",
            "|province|     avg_temp_2019|\n",
            "+--------+------------------+\n",
            "|  Da Lat|  21.0727885880052|\n",
            "| Cam Pha|23.929775082735606|\n",
            "| Cam Pha|23.929775082735606|\n",
            "| Play Cu| 24.05479151636748|\n",
            "| Uong Bi|24.055729008541267|\n",
            "+--------+------------------+\n",
            "\n"
          ]
        }
      ]
    }
  ]
}